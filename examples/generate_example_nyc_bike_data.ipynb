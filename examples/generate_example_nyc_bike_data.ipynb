{
 "cells": [
  {
   "cell_type": "markdown",
   "id": "0",
   "metadata": {},
   "source": [
    "## NYC Citi Bike Data Analysis\n",
    "\n",
    "Data from: https://citibikenyc.com/system-data\n",
    "\n",
    "### Prerequisites\n",
    "\n",
    "Before running, download all the zip files from this URL for the year 2024: https://s3.amazonaws.com/tripdata/index.html"
   ]
  },
  {
   "cell_type": "code",
   "execution_count": null,
   "id": "1",
   "metadata": {},
   "outputs": [],
   "source": [
    "from pathlib import Path\n",
    "from zipfile import ZipFile\n",
    "\n",
    "import duckdb"
   ]
  },
  {
   "cell_type": "code",
   "execution_count": null,
   "id": "2",
   "metadata": {},
   "outputs": [],
   "source": [
    "duckdb.install_extension(\"spatial\")\n",
    "duckdb.install_extension(\"h3\", repository=\"community\")\n",
    "duckdb.install_extension(\"zipfs\", repository=\"community\")\n",
    "\n",
    "duckdb.load_extension(\"spatial\")\n",
    "duckdb.load_extension(\"h3\")\n",
    "duckdb.load_extension(\"zipfs\")"
   ]
  },
  {
   "cell_type": "code",
   "execution_count": null,
   "id": "3",
   "metadata": {},
   "outputs": [],
   "source": [
    "DOWNLOAD_PATH = Path(\"data\")"
   ]
  },
  {
   "cell_type": "code",
   "execution_count": null,
   "id": "4",
   "metadata": {},
   "outputs": [],
   "source": [
    "zip_file_paths = sorted(\n",
    "    f\"zip://{zip_file_path}/{name}\"\n",
    "    for zip_file_path in DOWNLOAD_PATH.glob(\"*.zip\")\n",
    "    for name in ZipFile(zip_file_path).namelist()\n",
    ")"
   ]
  },
  {
   "cell_type": "code",
   "execution_count": null,
   "id": "5",
   "metadata": {},
   "outputs": [],
   "source": [
    "H3_RES = 9\n",
    "\n",
    "duckdb.sql(f\"\"\"\n",
    "WITH raw_trips AS (\n",
    "    SELECT\n",
    "        ride_id,\n",
    "        start_lat::FLOAT as start_lat,\n",
    "        start_lng::FLOAT as start_lng,\n",
    "        end_lat::FLOAT as end_lat,\n",
    "        end_lng::FLOAT as end_lng,\n",
    "        started_at::TIMESTAMP as started_at\n",
    "    FROM read_csv(\n",
    "        {zip_file_paths},\n",
    "        header=True,\n",
    "        all_varchar=True\n",
    "    )\n",
    "),\n",
    "parsed_trips AS (\n",
    "    SELECT\n",
    "        ride_id,\n",
    "        h3_latlng_to_cell(start_lat, start_lng, {H3_RES}) as start_h3,\n",
    "        h3_latlng_to_cell(end_lat, end_lng, {H3_RES}) as end_h3,\n",
    "        CASE\n",
    "            WHEN HOUR(started_at) BETWEEN 6 and 10 THEN 'morning'\n",
    "            WHEN HOUR(started_at) BETWEEN 16 and 20 THEN 'afternoon'\n",
    "        END as day_part\n",
    "    FROM raw_trips\n",
    "    WHERE\n",
    "        (\n",
    "            HOUR(started_at) BETWEEN  6 and 10 OR\n",
    "            HOUR(started_at) BETWEEN 16 and 20\n",
    "        ) AND\n",
    "        start_lng BETWEEN -74.1 AND -73.8 AND\n",
    "        end_lng   BETWEEN -74.1 AND -73.8 AND\n",
    "        start_lat BETWEEN  40.6 AND  40.9 AND\n",
    "        end_lat   BETWEEN  40.6 AND  40.9\n",
    "),\n",
    "morning_starts AS (\n",
    "    SELECT\n",
    "        start_h3 as h3,\n",
    "        COUNT(*) as morning_starts\n",
    "    FROM parsed_trips\n",
    "    WHERE day_part = 'morning'\n",
    "    GROUP BY start_h3\n",
    "),\n",
    "morning_ends AS (\n",
    "    SELECT\n",
    "        end_h3 as h3,\n",
    "        COUNT(*) as morning_ends\n",
    "    FROM parsed_trips\n",
    "    WHERE day_part = 'morning'\n",
    "    GROUP BY end_h3\n",
    "),\n",
    "afternoon_starts AS (\n",
    "    SELECT\n",
    "        start_h3 as h3,\n",
    "        COUNT(*) as afternoon_starts\n",
    "    FROM parsed_trips\n",
    "    WHERE day_part = 'afternoon'\n",
    "    GROUP BY start_h3\n",
    "),\n",
    "afternoon_ends AS (\n",
    "    SELECT\n",
    "        end_h3 as h3,\n",
    "        COUNT(*) as afternoon_ends\n",
    "    FROM parsed_trips\n",
    "    WHERE day_part = 'afternoon'\n",
    "    GROUP BY end_h3\n",
    ")\n",
    "SELECT\n",
    "    h3,\n",
    "    COALESCE(morning_starts, 0) AS morning_starts,\n",
    "    COALESCE(morning_ends, 0) AS morning_ends,\n",
    "    COALESCE(afternoon_starts, 0) AS afternoon_starts,\n",
    "    COALESCE(afternoon_ends, 0) AS afternoon_ends,\n",
    "    ST_GeomFromText(h3_cell_to_boundary_wkt(h3)) AS geometry\n",
    "FROM morning_starts ms\n",
    "FULL OUTER JOIN morning_ends me USING (h3)\n",
    "FULL OUTER JOIN afternoon_starts AS ats USING (h3)\n",
    "FULL OUTER JOIN afternoon_ends AS ate USING (h3)\n",
    "WHERE h3 IS NOT NULL\n",
    "ORDER BY h3\n",
    "\"\"\").to_csv(\"nyc_bike_trips.csv.gz\")"
   ]
  }
 ],
 "metadata": {
  "kernelspec": {
   "display_name": "bivario (3.12.3)",
   "language": "python",
   "name": "python3"
  },
  "language_info": {
   "codemirror_mode": {
    "name": "ipython",
    "version": 3
   },
   "file_extension": ".py",
   "mimetype": "text/x-python",
   "name": "python",
   "nbconvert_exporter": "python",
   "pygments_lexer": "ipython3",
   "version": "3.12.3"
  }
 },
 "nbformat": 4,
 "nbformat_minor": 5
}
