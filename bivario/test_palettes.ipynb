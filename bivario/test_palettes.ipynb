{
 "cells": [
  {
   "cell_type": "code",
   "execution_count": null,
   "id": "0",
   "metadata": {},
   "outputs": [],
   "source": [
    "import numpy as np\n",
    "from matplotlib import pyplot as plt\n",
    "from PIL import Image\n",
    "\n",
    "from bivario.cmap import bivariate_from_name\n",
    "from bivario.palettes import BIVARIATE_CORNER_PALETTES"
   ]
  },
  {
   "cell_type": "code",
   "execution_count": null,
   "id": "1",
   "metadata": {},
   "outputs": [],
   "source": [
    "grid_size = 7\n",
    "grid_size = 4\n",
    "xx, yy = np.mgrid[0:grid_size, 0:grid_size]\n",
    "total_keys = len(BIVARIATE_CORNER_PALETTES)\n",
    "cols = 5\n",
    "fig, axes = plt.subplots(int(np.ceil(total_keys / cols)), cols, figsize=(10, 10))\n",
    "\n",
    "axes_list = axes.flatten()\n",
    "for ax in axes_list:\n",
    "    ax.set_axis_off()\n",
    "\n",
    "for _i, k in enumerate(BIVARIATE_CORNER_PALETTES.keys()):\n",
    "    lcmap = bivariate_from_name(xx, yy, k)\n",
    "    img = Image.fromarray(np.uint8((lcmap)[:, :, :3] * 255))\n",
    "    axes_list[_i].imshow(img, origin=\"lower\")\n",
    "    axes_list[_i].set_title(k)"
   ]
  },
  {
   "cell_type": "code",
   "execution_count": null,
   "id": "2",
   "metadata": {},
   "outputs": [],
   "source": [
    "# E8FEFF; Pale Aqua\t#DFF8FF; Sky Wash\t#D6F1FF; Soft Sky\t#DCEBFF; Cool Veil\n",
    "# B8F3FF; Ice Shelf\t#9FE6FF; Lagoon\t#8FD8FF; Fresh Cusp\t#A0DFFF; Misted Bay\n",
    "# 69D8FF; Turquoise Flash\t#3EC8FF; Bright Current\t#1AB0FF; Deep Turquoise\t#2E97E6; Blue Ribbon\n",
    "# 2AA0D6; Teal-Blue\t#2382C2; Mid Ocean\t#1B5FA3; Deep Channel\t#0F3B7A; Abyss Indigo"
   ]
  },
  {
   "cell_type": "code",
   "execution_count": null,
   "id": "3",
   "metadata": {},
   "outputs": [],
   "source": [
    "lcmap = bivariate_from_name(xx, yy, \"Coral Twilight\")\n",
    "img = Image.fromarray(np.uint8((lcmap)[:, :, :3] * 255))\n",
    "\n",
    "display(img.transpose(1).resize(size=(1000, 1000), resample=0))"
   ]
  },
  {
   "cell_type": "code",
   "execution_count": null,
   "id": "4",
   "metadata": {},
   "outputs": [],
   "source": [
    "plt.plot"
   ]
  },
  {
   "cell_type": "code",
   "execution_count": null,
   "id": "5",
   "metadata": {},
   "outputs": [],
   "source": [
    "import pandas as pd\n",
    "\n",
    "pd.plotting"
   ]
  }
 ],
 "metadata": {
  "kernelspec": {
   "display_name": "bivario",
   "language": "python",
   "name": "python3"
  },
  "language_info": {
   "codemirror_mode": {
    "name": "ipython",
    "version": 3
   },
   "file_extension": ".py",
   "mimetype": "text/x-python",
   "name": "python",
   "nbconvert_exporter": "python",
   "pygments_lexer": "ipython3",
   "version": "3.12.6"
  }
 },
 "nbformat": 4,
 "nbformat_minor": 5
}
