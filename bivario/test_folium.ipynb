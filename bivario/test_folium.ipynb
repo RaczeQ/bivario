{
 "cells": [
  {
   "cell_type": "code",
   "execution_count": null,
   "id": "0",
   "metadata": {},
   "outputs": [],
   "source": [
    "import geopandas as gpd\n",
    "\n",
    "from bivario._folium import explore_bivariate_data"
   ]
  },
  {
   "cell_type": "code",
   "execution_count": null,
   "id": "1",
   "metadata": {},
   "outputs": [],
   "source": [
    "df = gpd.read_parquet(\"example_data/nyc_bike_trips.parquet\").set_index(\"h3\")\n",
    "df"
   ]
  },
  {
   "cell_type": "code",
   "execution_count": null,
   "id": "2",
   "metadata": {},
   "outputs": [],
   "source": [
    "explore_bivariate_data(\n",
    "    df,\n",
    "    column_a=\"morning_starts\",\n",
    "    column_b=\"morning_ends\",\n",
    "    # column_a_label=\"Morning trip starts\",\n",
    "    # column_b_label=\"Morning trip ends\",\n",
    "    # alpha=False,\n",
    "    alpha=True,\n",
    "    alpha_norm_quantile=0.99,\n",
    "    # dark_mode=True,\n",
    "    # legend_loc=legend_loc,\n",
    "    cmap_params=\"glacier_ember\",\n",
    "    style_kwds=dict(fillOpacity=0.8, opacity=0),\n",
    "    k=7,\n",
    "    # legend_size_px=100,\n",
    "    # legend_kwargs=dict(tick_fontsize_px=10)\n",
    "    tiles=\"CartoDB Voyager\",\n",
    ")"
   ]
  },
  {
   "cell_type": "code",
   "execution_count": null,
   "id": "3",
   "metadata": {},
   "outputs": [],
   "source": [
    "for legend_loc in [\"bl\", \"br\", \"tl\", \"tr\"]:\n",
    "    explore_bivariate_data(\n",
    "        df,\n",
    "        column_a=\"morning_starts\",\n",
    "        column_b=\"morning_ends\",\n",
    "        column_a_label=\"Morning trip starts\",\n",
    "        column_b_label=\"Morning trip ends\",\n",
    "        # alpha=False,\n",
    "        alpha=True,\n",
    "        alpha_norm_quantile=0.99,\n",
    "        # dark_mode=True,\n",
    "        legend_loc=legend_loc,\n",
    "        cmap_params=\"glacier_ember\",\n",
    "        style_kwds=dict(fillOpacity=0.8, opacity=0),\n",
    "        k=4,\n",
    "        # legend_size_px=100,\n",
    "        # legend_kwargs=dict(tick_fontsize_px=10)\n",
    "    ).save(f\"test_{legend_loc}.html\")"
   ]
  }
 ],
 "metadata": {
  "kernelspec": {
   "display_name": "bivario",
   "language": "python",
   "name": "python3"
  },
  "language_info": {
   "codemirror_mode": {
    "name": "ipython",
    "version": 3
   },
   "file_extension": ".py",
   "mimetype": "text/x-python",
   "name": "python",
   "nbconvert_exporter": "python",
   "pygments_lexer": "ipython3",
   "version": "3.12.6"
  }
 },
 "nbformat": 4,
 "nbformat_minor": 5
}
